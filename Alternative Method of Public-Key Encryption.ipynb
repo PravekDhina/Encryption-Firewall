{
 "cells": [
  {
   "cell_type": "markdown",
   "id": "46d4061c",
   "metadata": {},
   "source": [
    "# F21CN - CW2: \n",
    "\n",
    "Author: Amrutha Purna Vadrevu | Student ID: H00423588 | Last edited: 21/11/2023\n",
    "\n",
    "# Task1: Alternative Method of Public-Key Encryption"
   ]
  },
  {
   "cell_type": "markdown",
   "id": "a904b67f",
   "metadata": {},
   "source": [
    "#### What the code does: \n",
    "The code generates a public-private key pair which is used to encrypt a plaintext, generate ciphertext and which can also be used to decrypt the ciphertext to retrieve the original plaintext. \n",
    "\n",
    "#### Required Inputs:\n",
    "1. n = enter the number of elements for easy key\n",
    "2. plaintext = enter the message that needs to be encrypted\n",
    "\n",
    "#### Output:\n",
    "1. e - easy key (part of private key)\n",
    "2. h - hard key (public key)\n",
    "3. ciphertext - message encrypted using public key\n",
    "4. plaintext - ciphertext decrypted using private key (this is the same as the original message)"
   ]
  },
  {
   "cell_type": "markdown",
   "id": "6fa3e60e",
   "metadata": {},
   "source": [
    "## 1.1: Generation of Public-Private Key Pair"
   ]
  },
  {
   "cell_type": "markdown",
   "id": "c1eb98f1",
   "metadata": {},
   "source": [
    "Property: A public key (h) is generated from a private key (e, q, w) where *e* is the easy key and *q*, *w* are co-primes with the following property: \n",
    "\n",
    "$h_{i}$ = (w$e_{i}$ mod q) for 1 $\\le$ i $\\le$ n\n",
    "\n",
    "Easy key, *e*, is chosen such that it is a random set of integers e = ($e_{1}$, $e_{2}$, . . . , $e_{n}$) such that each new element of the set is greater than the sum of the previous elements in the set "
   ]
  },
  {
   "cell_type": "code",
   "execution_count": 1,
   "id": "28f5f0f8",
   "metadata": {},
   "outputs": [],
   "source": [
    "#Importing necessary libraries\n",
    "\n",
    "import random #To generate random set of integers\n",
    "import math #To use gcd function"
   ]
  },
  {
   "cell_type": "code",
   "execution_count": 2,
   "id": "99afee8d",
   "metadata": {},
   "outputs": [],
   "source": [
    "def generate_public_key(n):\n",
    "    \n",
    "    #Generation of e, the easy key, which is part of the private key\n",
    "    \n",
    "    e = [] # An empty list to store the random set of positive integers with the given property\n",
    "    prev_sum = 0\n",
    "    for i in range(n):\n",
    "        ei = random.randint(prev_sum + 1, prev_sum + 2 * n) # To ensure a sensible list of numbers, the upper limit is set to (prev_sum + 2n)\n",
    "        e.append(ei)\n",
    "        prev_sum += ei\n",
    "\n",
    "        \n",
    "    # Select a prime number q such that q > 2en\n",
    "    \n",
    "    q = random.randint(2 * e[-1] + 1, 2 * e[-1] + 100)\n",
    "    while not is_prime(q):\n",
    "        q = random.randint(2 * e[-1] + 1, 2 * e[-1] + 100)\n",
    "\n",
    "        \n",
    "    # Select a random w such that gcd(w, q) = 1\n",
    "    \n",
    "    w = random.randint(2, q-1)\n",
    "    while math.gcd(w, q) != 1:\n",
    "        w = random.randint(2, q-1)\n",
    "\n",
    "    # Compute h\n",
    "    h = [w * e[i] % q for i in range(n)]\n",
    "\n",
    "    return h, (e, q, w) #Public-Private key pair"
   ]
  },
  {
   "cell_type": "markdown",
   "id": "662af11b",
   "metadata": {},
   "source": [
    "#### Function to check whether a number is prime or not"
   ]
  },
  {
   "cell_type": "code",
   "execution_count": 3,
   "id": "7d7aed31",
   "metadata": {},
   "outputs": [],
   "source": [
    "def is_prime(num):\n",
    "    if num>1:\n",
    "        for i in range(2, int((num/2) + 1)): # If num is divisible by any number between 2 and n / 2, it is not prime\n",
    "            if((num % i) == 0):\n",
    "                return False\n",
    "                break\n",
    "            else: \n",
    "                return True\n",
    "    else: \n",
    "        return False"
   ]
  },
  {
   "cell_type": "markdown",
   "id": "8427313d",
   "metadata": {},
   "source": [
    "#### Functions to convert plaintext to bits and vice-versa\n",
    "\n",
    "The message is in plaintext. For encryption and decryption, the plaintext needs to be converted to binary data since the model works on each bit of the message. After decryption, the decrypted message will be in binary form, which needs to be converted back to plaintext. "
   ]
  },
  {
   "cell_type": "code",
   "execution_count": 4,
   "id": "f721c1a8",
   "metadata": {},
   "outputs": [],
   "source": [
    "def convert_plaintext_to_bits(plaintext):\n",
    "    bits = []\n",
    "    for char in plaintext:\n",
    "        binary_representation = bin(ord(char))[2:].rjust(8, '0') # Starting from the third bit to remove the \"0b\" prefix of binary number. If the character does not have 8 bits, it is padded with 0. Else, it is left as it is.   \n",
    "        bits.extend(map(int, binary_representation)) # characters in the binary_representation string are converted to integers and added to the bits list\n",
    "\n",
    "    return bits\n",
    "\n",
    "\n",
    "def convert_bits_to_plaintext(bits):\n",
    "    plaintext = \"\"\n",
    "    char_bits = []\n",
    "    for bit in bits:\n",
    "        char_bits.append(bit) # Creating a list of 8 bits\n",
    "        if len(char_bits) == 8: \n",
    "            char = chr(int(\"\".join(map(str, char_bits)), 2)) # combines all the bits into a continuous binary representation which is then converted to ASCII character\n",
    "            plaintext += char\n",
    "            char_bits = []\n",
    "\n",
    "    if char_bits:  # If there are remaining bits\n",
    "        char = chr(int(\"\".join(map(str, char_bits)), 2))\n",
    "        plaintext += char\n",
    "\n",
    "    return plaintext\n"
   ]
  },
  {
   "cell_type": "markdown",
   "id": "29b065b8",
   "metadata": {},
   "source": [
    "#### Encryption\n",
    "Property: To encrypt an n-bit message m = ($m_{1}$,$m_{2}$, . . . ,$m_{n}$) for Bob, Alice would compute c = $h_{1}$$m_{1}$+ $h_{2}$$m_{2}$ + · · · + $h_{n}$$m_{n}$.\n",
    "\n",
    "The message needs to be split into blocks of length h (with n bits) so that the property can be applied to each bit of message and hard key to generate the ciphertext. \n",
    "\n"
   ]
  },
  {
   "cell_type": "code",
   "execution_count": 5,
   "id": "d6e17574",
   "metadata": {},
   "outputs": [],
   "source": [
    "def encrypt(plaintext, h):\n",
    "    bits = convert_plaintext_to_bits(plaintext)\n",
    "\n",
    "    # Split the message into blocks of size len(h)\n",
    "    blocks = [bits[i:i+len(h)] for i in range(0, len(bits), len(h))]\n",
    "    \n",
    "    # Encrypt each block separately\n",
    "    encrypted_blocks = [sum(h[j] * block[j] for j in range(len(block))) for block in blocks]\n",
    "\n",
    "    return encrypted_blocks"
   ]
  },
  {
   "cell_type": "markdown",
   "id": "52df859d",
   "metadata": {},
   "source": [
    "#### Decryption\n",
    "\n",
    "To decrypt a ciphertext c, Bob can compute c′ = c$w^{−1}$ mod q so that in fact, c′ =\n",
    "$e_{1}$$m_{1}$ + $e_{2}$$m_{2}$+ · · · + $e_{n}$$m_{n}$. The property in the first step of the public key generation (that each $e_{i}$ is greater than the sum of all previous values) allows Bob to recover each bit of the plaintext one at a time. To do this from c′, start from $e_{n}$ and check if the existing sum (starting with c′) is larger than or equal to $e_{n}$. If it is, then $m_{n}$ = 1 and you compute c′ = c′ − $e_{n}$, but if it’s not then $m_{n}$ = 0). Then do the same for $e_{n−1}$, and so on, all the way to $e_{1}$."
   ]
  },
  {
   "cell_type": "code",
   "execution_count": 6,
   "id": "20575c2e",
   "metadata": {},
   "outputs": [],
   "source": [
    "def decrypt(ciphertext_blocks, e, q, w):\n",
    "    w_inv = pow(w, -1, q)\n",
    "    bits = []\n",
    "\n",
    "    for block in ciphertext_blocks:\n",
    "        c_prime = block * w_inv % q\n",
    "\n",
    "        block_bits = []\n",
    "\n",
    "        for ei in reversed(e):\n",
    "            if c_prime >= ei:\n",
    "                block_bits.insert(0, 1)\n",
    "                c_prime -= ei\n",
    "\n",
    "            else:\n",
    "                block_bits.insert(0, 0)\n",
    "\n",
    "        bits.extend(block_bits)\n",
    "\n",
    "    plaintext = convert_bits_to_plaintext(bits)\n",
    "\n",
    "    return plaintext"
   ]
  },
  {
   "cell_type": "code",
   "execution_count": 7,
   "id": "59f572c9",
   "metadata": {},
   "outputs": [
    {
     "name": "stdout",
     "output_type": "stream",
     "text": [
      "Enter the number of random integers to be generated: 16\n",
      "Public key: [566370, 496298, 202400, 404800, 851441, 723896, 699437, 608678, 734668, 756017, 197309, 23843, 907954, 696778, 603360, 381488]\n",
      "Private key: ([15, 33, 55, 110, 236, 456, 917, 1823, 3663, 7322, 14634, 29283, 58559, 117138, 234265, 468528], 937145, 412616)\n"
     ]
    }
   ],
   "source": [
    "n = int(input(\"Enter the number of random integers to be generated: \"))\n",
    "h, (e, q, w) = generate_public_key(n)\n",
    "print(\"Public key:\", h)\n",
    "print(\"Private key:\", (e, q, w))"
   ]
  },
  {
   "cell_type": "code",
   "execution_count": 8,
   "id": "34400483",
   "metadata": {},
   "outputs": [
    {
     "name": "stdout",
     "output_type": "stream",
     "text": [
      "Enter the message: To Amrutha: As I pen this letter, I'm filled with a mix of anticipation and uncertainty about the path that lies ahead. Yet, one thing remains constant: my unwavering belief in your resilience and potential.  Remember the dreams that ignite your soul, the aspirations that set your heart ablaze. Hold them close, for they are the beacon that will guide you through life's uncharted waters. Embrace the inevitable setbacks as opportunities for growth, stepping stones to propel you towards greater heights.  And above all, never cease to learn, never stop growing. Embrace new experiences, challenge your perspectives, and expand your horizons. The world is a vast and wondrous place, brimming with endless possibilities waiting to be explored.\n"
     ]
    }
   ],
   "source": [
    "plaintext = input(\"Enter the message: \")"
   ]
  },
  {
   "cell_type": "code",
   "execution_count": 9,
   "id": "1bbb7793",
   "metadata": {},
   "outputs": [
    {
     "name": "stdout",
     "output_type": "stream",
     "text": [
      "Encrypted message: [5167900, 1339905, 4463242, 4110019, 2884953, 2355387, 3066993, 2247859, 1179569, 5192690, 1876347, 3792907, 2608922, 4305627, 3501341, 3611801, 1975046, 3835352, 3080022, 4364799, 4832093, 3681376, 2861195, 3832764, 1747448, 1504685, 5125481, 2152248, 5835614, 1537214, 4647419, 4096991, 3135986, 2981323, 5701723, 3170781, 4468794, 1619903, 5597490, 4038405, 3476882, 3550144, 4647419, 2760926, 2864062, 5637585, 2024703, 3688674, 2228581, 2438312, 3688674, 1876347, 2884953, 2024703, 4516803, 3993289, 1537214, 3581731, 2957480, 2674483, 4392809, 3629435, 3745306, 5005064, 1876347, 3792907, 5608424, 1782929, 4970818, 3550144, 4935489, 2140574, 6743568, 4085560, 4468794, 3559860, 3141946, 2760926, 5597490, 4470323, 4558423, 4045703, 5608424, 1759086, 4589330, 4190409, 2319340, 5320235, 2469011, 5637585, 2000244, 3834527, 4654381, 4516803, 5192690, 4038405, 1537214, 4623576, 1179569, 5256097, 5192690, 4070162, 3865434, 2674483, 1585620, 4970818, 4970818, 3429727, 2000244, 3688674, 2228581, 3003123, 3366086, 4844730, 1876347, 2884953, 2024703, 4793769, 5216240, 3858986, 2469011, 5637585, 2000244, 5954519, 4994130, 1975046, 3688674, 2228581, 3269393, 3346266, 3137749, 4070162, 6743568, 2608922, 3688674, 2981323, 2164417, 3705219, 2469011, 5637585, 2000244, 3581731, 2887905, 2024703, 2864062, 3608849, 4685968, 2674483, 4890645, 3924139, 1876347, 3581731, 3080022, 4564871, 5544167, 3833313, 2455864, 5162679, 1876347, 3581731, 2760926, 2887905, 2228581, 3688674, 2228581, 3429727, 3245550, 6743568, 1876347, 2884953, 2024703, 5378277, 4832093, 2837352, 4678840, 3454186, 2469011, 5637585, 1876347, 3130668, 5637585, 4591989, 2760458, 4412281, 3910207, 2608922, 5597490, 3868093, 2887905, 3858986, 1619903, 4470323, 3858986, 3764952, 2674483, 4768418, 2978664, 3245550, 2228581, 3688674, 2228581, 5320235, 4308579, 3832764, 2864062, 4305627, 2164417, 3705219, 2732949, 4852941, 2608922, 3269393, 3745306, 2080667, 5162679, 3882829, 5216240, 4070162, 3993289, 2455864, 5162679, 2837352, 5345841, 4809456, 3352180, 2164417, 3858986, 2080667, 5320235, 2928018, 4085560, 6743568, 3993289, 1876347, 3779459, 2684027, 4559319, 4589330, 2469011, 5637585, 1876347, 6240945, 2887905, 3384611, 2837352, 3834527, 2981323, 3611801, 2063680, 4274040, 4591989, 3789411, 2674483, 1339905, 4623576, 1537214, 4941041, 4558423, 1537214, 4832093, 1975046, 5005064, 4558423, 2000244, 4038405, 3269393, 2228581, 5370300, 2760458, 3366086, 4964353, 1975046, 5005064, 4558423, 2000244, 4085560, 4559319, 2837352, 5345841, 5378277, 5608424, 2674483, 4768418, 2978664, 3245550, 2228581, 5005064, 3332818, 3916395, 3135090, 4045703, 5192690, 4038405, 4213654, 2140574, 2884953, 4832093, 5192690, 4762301, 2469011, 5637585, 2000244, 3135090, 3764952, 3135090, 3680760, 4436124, 3993289, 1975046, 4468794, 1619903, 3916395, 2438312, 4623576, 2469011, 5637585, 2000244, 5093045, 4045703, 6197282, 4935489, 2674483, 3486274, 2228581, 6678415, 4360993, 1619903, 4120834, 1537214, 2479707, 3269393, 2024703, 4468794, 1619903, 6678415, 4623576, 5345841, 4398089, 1179569, 3608849, 4038405, 1975046, 2978664, 5098363, 5125481, 5608424, 2861195, 3832764, 1747448, 5192690, 3980652, 3993289, 2608922, 4646404, 4373630, 3715503, 4716875, 3832764, 4190409, 2608922, 4470323, 3832764, 5320235, 2928018, 5370300, 1759086, 2228581, 3916395, 3661556, 5162679, 3681376, 2477174]\n"
     ]
    }
   ],
   "source": [
    "ciphertext = encrypt(plaintext, h)\n",
    "print(\"Encrypted message:\", ciphertext)"
   ]
  },
  {
   "cell_type": "code",
   "execution_count": 10,
   "id": "d75fd9ee",
   "metadata": {},
   "outputs": [
    {
     "name": "stdout",
     "output_type": "stream",
     "text": [
      "Decrypted message: To Amrutha: As I pen this letter, I'm filled with a mix of anticipation and uncertainty about the path that lies ahead. Yet, one thing remains constant: my unwavering belief in your resilience and potential.  Remember the dreams that ignite your soul, the aspirations that set your heart ablaze. Hold them close, for they are the beacon that will guide you through life's uncharted waters. Embrace the inevitable setbacks as opportunities for growth, stepping stones to propel you towards greater heights.  And above all, never cease to learn, never stop growing. Embrace new experiences, challenge your perspectives, and expand your horizons. The world is a vast and wondrous place, brimming with endless possibilities waiting to be explored.\u0000\n"
     ]
    }
   ],
   "source": [
    "plaintext_prime = decrypt(ciphertext, e, q, w)\n",
    "print(\"Decrypted message:\", plaintext_prime)"
   ]
  },
  {
   "cell_type": "code",
   "execution_count": null,
   "id": "38279172",
   "metadata": {},
   "outputs": [],
   "source": []
  }
 ],
 "metadata": {
  "kernelspec": {
   "display_name": "Python 3 (ipykernel)",
   "language": "python",
   "name": "python3"
  },
  "language_info": {
   "codemirror_mode": {
    "name": "ipython",
    "version": 3
   },
   "file_extension": ".py",
   "mimetype": "text/x-python",
   "name": "python",
   "nbconvert_exporter": "python",
   "pygments_lexer": "ipython3",
   "version": "3.11.4"
  }
 },
 "nbformat": 4,
 "nbformat_minor": 5
}
